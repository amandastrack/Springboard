{
 "cells": [
  {
   "cell_type": "markdown",
   "metadata": {},
   "source": [
    "# Examining Racial Discrimination in the US Job Market\n",
    "\n",
    "### Background\n",
    "Racial discrimination continues to be pervasive in cultures throughout the world. Researchers examined the level of racial discrimination in the United States labor market by randomly assigning identical résumés to black-sounding or white-sounding names and observing the impact on requests for interviews from employers.\n",
    "\n",
    "### Data\n",
    "In the dataset provided, each row represents a resume. The 'race' column has two values, 'b' and 'w', indicating black-sounding and white-sounding. The column 'call' has two values, 1 and 0, indicating whether the resume received a call from employers or not.\n",
    "\n",
    "Note that the 'b' and 'w' values in race are assigned randomly to the resumes when presented to the employer."
   ]
  },
  {
   "cell_type": "markdown",
   "metadata": {},
   "source": [
    "### Exercises\n",
    "You will perform a statistical analysis to establish whether race has a significant impact on the rate of callbacks for resumes.\n",
    "\n",
    "Answer the following questions **in this notebook below and submit to your Github account**. \n",
    "\n",
    "   1. What test is appropriate for this problem? Does CLT apply?\n",
    "   2. What are the null and alternate hypotheses?\n",
    "   3. Compute margin of error, confidence interval, and p-value. Try using both the bootstrapping and the frequentist statistical approaches.\n",
    "   4. Write a story describing the statistical significance in the context or the original problem.\n",
    "   5. Does your analysis mean that race/name is the most important factor in callback success? Why or why not? If not, how would you amend your analysis?\n",
    "\n",
    "You can include written notes in notebook cells using Markdown: \n",
    "   - In the control panel at the top, choose Cell > Cell Type > Markdown\n",
    "   - Markdown syntax: http://nestacms.com/docs/creating-content/markdown-cheat-sheet\n",
    "\n",
    "#### Resources\n",
    "+ Experiment information and data source: http://www.povertyactionlab.org/evaluation/discrimination-job-market-united-states\n",
    "+ Scipy statistical methods: http://docs.scipy.org/doc/scipy/reference/stats.html \n",
    "+ Markdown syntax: http://nestacms.com/docs/creating-content/markdown-cheat-sheet\n",
    "+ Formulas for the Bernoulli distribution: https://en.wikipedia.org/wiki/Bernoulli_distribution"
   ]
  },
  {
   "cell_type": "code",
   "execution_count": 38,
   "metadata": {},
   "outputs": [],
   "source": [
    "import pandas as pd\n",
    "import numpy as np\n",
    "from scipy import stats"
   ]
  },
  {
   "cell_type": "code",
   "execution_count": 39,
   "metadata": {},
   "outputs": [],
   "source": [
    "data = pd.io.stata.read_stata('data/us_job_market_discrimination.dta')"
   ]
  },
  {
   "cell_type": "code",
   "execution_count": 51,
   "metadata": {},
   "outputs": [
    {
     "data": {
      "text/plain": [
       "235.0"
      ]
     },
     "execution_count": 51,
     "metadata": {},
     "output_type": "execute_result"
    }
   ],
   "source": [
    "# number of callbacks for black-sounding names\n",
    "sum(data[data.race=='w'].call)"
   ]
  },
  {
   "cell_type": "code",
   "execution_count": 52,
   "metadata": {},
   "outputs": [
    {
     "name": "stdout",
     "output_type": "stream",
     "text": [
      "4870\n"
     ]
    }
   ],
   "source": [
    "data.head()\n",
    "print(len(data))"
   ]
  },
  {
   "cell_type": "markdown",
   "metadata": {
    "collapsed": true
   },
   "source": [
    "#### 1. What test is appropriate for this problem? Does CLT apply?\n",
    "\n",
    "We will use a two-sample z-test for the difference in proportions. CLT applies because our sample size is large (n = 4870) and observations are independent.\n",
    "\n",
    "#### 2. What are the null and alternate hypotheses?\n",
    "\n",
    "$H_0$: $P_1$ = $P_2$\n",
    "\n",
    "$H_A$: $P_1$ $\\neq$ $P_2$\n"
   ]
  },
  {
   "cell_type": "code",
   "execution_count": 42,
   "metadata": {},
   "outputs": [],
   "source": [
    "w = data[data.race=='w']\n",
    "b = data[data.race=='b']"
   ]
  },
  {
   "cell_type": "markdown",
   "metadata": {},
   "source": [
    "#### 3. Compute margin of error, confidence interval, and p-value. Try using both the bootstrapping and the frequentist statistical approaches."
   ]
  },
  {
   "cell_type": "code",
   "execution_count": 43,
   "metadata": {},
   "outputs": [
    {
     "name": "stdout",
     "output_type": "stream",
     "text": [
      "Margin of Error: 0.015255406349886438\n",
      "95% Confidence Interval: (0.016777447859559147, 0.047288260559332024)\n"
     ]
    }
   ],
   "source": [
    "# compute margin of error, confidence interval and p-value\n",
    "\n",
    "# white\n",
    "p_w = sum(w.call) / len(w.call)\n",
    "w_std_err = np.sqrt((p_w*(1-p_w))/len(w.call))\n",
    "\n",
    "# black\n",
    "p_b = sum(b.call) / len(b.call)\n",
    "b_std_err = np.sqrt((p_b*(1-p_b))/len(b.call))\n",
    "\n",
    "# 95% confidence\n",
    "z = 1.96\n",
    "\n",
    "# margin of error of the difference of proportions\n",
    "marg_err = z * (np.sqrt(w_std_err ** 2 + b_std_err ** 2))\n",
    "print(\"Margin of Error:\",marg_err)\n",
    "\n",
    "# 95% confidence interval\n",
    "limit_1 = (p_w - p_b) - marg_err\n",
    "limit_2 = (p_w - p_b) + marg_err\n",
    "conf_in = (limit_1, limit_2)\n",
    "print(\"95% Confidence Interval:\",conf_in)"
   ]
  },
  {
   "cell_type": "code",
   "execution_count": 44,
   "metadata": {},
   "outputs": [
    {
     "name": "stdout",
     "output_type": "stream",
     "text": [
      "Z-score: 4.108412152434346\n",
      "P value: 3.983886837585077e-05\n"
     ]
    }
   ],
   "source": [
    "# frequentist test \n",
    "\n",
    "# overall sample proportion\n",
    "p_success = (sum(w.call) + sum(b.call)) / (len(w.call) + len(b.call))\n",
    "\n",
    "# Z score\n",
    "z_score = (p_w - p_b - 0) / \\\n",
    "    (np.sqrt( p_success * (1 - p_success) * ( 1 / len(w.call) + 1 / len(b.call))))\n",
    "print('Z-score:', Z)\n",
    "\n",
    "# p-value\n",
    "p_val = stats.norm.sf(z_score) * 2\n",
    "print('P value:', p_val)"
   ]
  },
  {
   "cell_type": "markdown",
   "metadata": {},
   "source": [
    "The p-value is very low, so we reject the null hypothesis."
   ]
  },
  {
   "cell_type": "code",
   "execution_count": 49,
   "metadata": {},
   "outputs": [
    {
     "name": "stdout",
     "output_type": "stream",
     "text": [
      "Bootstrap p value: 0.0\n"
     ]
    }
   ],
   "source": [
    "# bootstrap approach\n",
    "\n",
    "def permutation_sample(data1, data2):\n",
    "    \"\"\"Generate a permutation sample from two data sets.\"\"\"\n",
    "\n",
    "    # Concatenate the data sets: data\n",
    "    data = np.concatenate((data1,data2))\n",
    "\n",
    "    # Permute the concatenated array: permuted_data\n",
    "    permuted_data = np.random.permutation(data)\n",
    "\n",
    "    # Split the permuted array into two: perm_sample_1, perm_sample_2\n",
    "    perm_sample_1 = permuted_data[:len(data1)]\n",
    "    perm_sample_2 = permuted_data[len(data1):]\n",
    "\n",
    "    return perm_sample_1, perm_sample_2\n",
    "\n",
    "def draw_perm_reps(data_1, data_2, func, size = 1):\n",
    "    perm_replicates = np.empty(size)\n",
    "\n",
    "    for i in range(size):\n",
    "        perm_sample_1, perm_sample_2 = permutation_sample(data_1, data_2)\n",
    "        perm_replicates[i] = func(perm_sample_1, perm_sample_2)\n",
    "\n",
    "    return perm_replicates\n",
    "\n",
    "def diff_of_proportion(data_1, data_2):\n",
    "    return (sum(data_1) / len(data_1) - (sum(data_2) / len(data_2)))\n",
    "\n",
    "empirical_diff_proportion = diff_of_proportion(w.call, b.call)\n",
    "\n",
    "perm_replicates = draw_perm_reps(w.call, b.call, \n",
    "                                 diff_of_proportion, size = 10000)\n",
    "\n",
    "p = np.sum(perm_replicates >= empirical_diff_proportion) / len(perm_replicates)\n",
    "print('Bootstrap p value:', p)"
   ]
  },
  {
   "cell_type": "markdown",
   "metadata": {},
   "source": [
    "#### 4. Write a story describing the statistical significance in the context or the original problem.\n",
    "\n",
    "In this problem, we tested the hypothesis that race does not have a significant impact on whether or not a resume receives a callback. To do this, we compared the proportions of black-sounding resumes that received a callback to white-sounding resumes that received a callback. \n",
    "\n",
    "First, with a confidence interval we found that 95% of the time, the difference between proportions lies between 0.017 and 0.047. Then, with a Z-test we found a p-value of 3.983886837585077e-05, which is low enough to reject the null hypothesis. Finally, we performed a permutation test also giving us a very small p-value.\n",
    "\n",
    "From our tests we can conclude that race does have a statistically significant impact on resume callbacks. This dataset gives us evidence of racial discrimination in this sample of the United States labor market. \n",
    "\n",
    "#### 5. Does your analysis mean that race/name is the most important factor in callback success? Why or why not? If not, how would you amend your analysis?\n",
    "\n",
    "This analysis does not necessarily imply that race is the most important factor in resume callbacks. We only tested the hypothesis that it has some influence. In order to determine its 'importance', we would have to amend our analysis by testing all the other factors provided in the dataset. "
   ]
  }
 ],
 "metadata": {
  "kernelspec": {
   "display_name": "Python 3",
   "language": "python",
   "name": "python3"
  },
  "language_info": {
   "codemirror_mode": {
    "name": "ipython",
    "version": 3
   },
   "file_extension": ".py",
   "mimetype": "text/x-python",
   "name": "python",
   "nbconvert_exporter": "python",
   "pygments_lexer": "ipython3",
   "version": "3.7.1"
  }
 },
 "nbformat": 4,
 "nbformat_minor": 1
}
