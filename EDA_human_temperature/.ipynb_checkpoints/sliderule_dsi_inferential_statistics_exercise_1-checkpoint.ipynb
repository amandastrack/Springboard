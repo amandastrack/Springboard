{
 "cells": [
  {
   "cell_type": "markdown",
   "metadata": {},
   "source": [
    "# What is the True Normal Human Body Temperature? \n",
    "\n",
    "#### Background\n",
    "\n",
    "The mean normal body temperature was held to be 37$^{\\circ}$C or 98.6$^{\\circ}$F for more than 120 years since it was first conceptualized and reported by Carl Wunderlich in a famous 1868 book. But, is this value statistically correct?"
   ]
  },
  {
   "cell_type": "markdown",
   "metadata": {},
   "source": [
    "<h3>Exercises</h3>\n",
    "\n",
    "<p>In this exercise, you will analyze a dataset of human body temperatures and employ the concepts of hypothesis testing, confidence intervals, and statistical significance.</p>\n",
    "\n",
    "<p>Answer the following questions <b>in this notebook below and submit to your Github account</b>.</p> \n",
    "\n",
    "<ol>\n",
    "<li>  Is the distribution of body temperatures normal? \n",
    "    <ul>\n",
    "    <li> Although this is not a requirement for the Central Limit Theorem to hold (read the introduction on Wikipedia's page about the CLT carefully: https://en.wikipedia.org/wiki/Central_limit_theorem), it gives us some peace of mind that the population may also be normally distributed if we assume that this sample is representative of the population.\n",
    "    <li> Think about the way you're going to check for the normality of the distribution. Graphical methods are usually used first, but there are also other ways: https://en.wikipedia.org/wiki/Normality_test\n",
    "    </ul>\n",
    "<li>  Is the sample size large? Are the observations independent?\n",
    "    <ul>\n",
    "    <li> Remember that this is a condition for the Central Limit Theorem, and hence the statistical tests we are using, to apply.\n",
    "    </ul>\n",
    "<li>  Is the true population mean really 98.6 degrees F?\n",
    "    <ul>\n",
    "    <li> First, try a bootstrap hypothesis test.\n",
    "    <li> Now, let's try frequentist statistical testing. Would you use a one-sample or two-sample test? Why?\n",
    "    <li> In this situation, is it appropriate to use the $t$ or $z$ statistic? \n",
    "    <li> Now try using the other test. How is the result be different? Why?\n",
    "    </ul>\n",
    "<li>  Draw a small sample of size 10 from the data and repeat both frequentist tests. \n",
    "    <ul>\n",
    "    <li> Which one is the correct one to use? \n",
    "    <li> What do you notice? What does this tell you about the difference in application of the $t$ and $z$ statistic?\n",
    "    </ul>\n",
    "<li>  At what temperature should we consider someone's temperature to be \"abnormal\"?\n",
    "    <ul>\n",
    "    <li> As in the previous example, try calculating everything using the boostrap approach, as well as the frequentist approach.\n",
    "    <li> Start by computing the margin of error and confidence interval. When calculating the confidence interval, keep in mind that you should use the appropriate formula for one draw, and not N draws.\n",
    "    </ul>\n",
    "<li>  Is there a significant difference between males and females in normal temperature?\n",
    "    <ul>\n",
    "    <li> What testing approach did you use and why?\n",
    "    <li> Write a story with your conclusion in the context of the original problem.\n",
    "    </ul>\n",
    "</ol>\n",
    "\n",
    "You can include written notes in notebook cells using Markdown: \n",
    "   - In the control panel at the top, choose Cell > Cell Type > Markdown\n",
    "   - Markdown syntax: http://nestacms.com/docs/creating-content/markdown-cheat-sheet\n",
    "\n",
    "#### Resources\n",
    "\n",
    "+ Information and data sources: http://www.amstat.org/publications/jse/datasets/normtemp.txt, http://www.amstat.org/publications/jse/jse_data_archive.htm\n",
    "+ Markdown syntax: http://nestacms.com/docs/creating-content/markdown-cheat-sheet\n",
    "\n",
    "****"
   ]
  },
  {
   "cell_type": "code",
   "execution_count": 2,
   "metadata": {},
   "outputs": [
    {
     "name": "stdout",
     "output_type": "stream",
     "text": [
      "   temperature gender  heart_rate\n",
      "0         99.3      F        68.0\n",
      "1         98.4      F        81.0\n",
      "2         97.8      M        73.0\n",
      "3         99.2      F        66.0\n",
      "4         98.0      F        73.0\n"
     ]
    }
   ],
   "source": [
    "import pandas as pd\n",
    "from matplotlib import pyplot as plt\n",
    "\n",
    "df = pd.read_csv('data/human_body_temperature.csv')\n",
    "print(df.head())"
   ]
  },
  {
   "cell_type": "markdown",
   "metadata": {},
   "source": [
    "### 1. Is the distribution of body temperatures normal?"
   ]
  },
  {
   "cell_type": "code",
   "execution_count": 3,
   "metadata": {},
   "outputs": [
    {
     "data": {
      "text/plain": [
       "(array([ 4.,  6., 15., 26., 30., 30., 15.,  1.,  2.,  1.]),\n",
       " array([ 96.3 ,  96.75,  97.2 ,  97.65,  98.1 ,  98.55,  99.  ,  99.45,\n",
       "         99.9 , 100.35, 100.8 ]),\n",
       " <a list of 10 Patch objects>)"
      ]
     },
     "execution_count": 3,
     "metadata": {},
     "output_type": "execute_result"
    },
    {
     "data": {
      "image/png": "[encoded data removed]",
      "text/plain": [
       "<Figure size 432x288 with 1 Axes>"
      ]
     },
     "metadata": {
      "needs_background": "light"
     },
     "output_type": "display_data"
    }
   ],
   "source": [
    "#Is the distribution of body temperatures normal?\n",
    "\n",
    "temp = df['temperature']\n",
    "plt.hist(temp)"
   ]
  },
  {
   "cell_type": "markdown",
   "metadata": {},
   "source": [
    "We can see a normal-like shape to the data, but this is a rough approximation. It is hard to tell if the distribution is normal from it's histogram, so next we will use a normality test."
   ]
  },
  {
   "cell_type": "code",
   "execution_count": 4,
   "metadata": {},
   "outputs": [
    {
     "name": "stdout",
     "output_type": "stream",
     "text": [
      "The sample comes from a normal distribution.\n"
     ]
    }
   ],
   "source": [
    "from scipy import stats\n",
    "\n",
    "k,p=stats.mstats.normaltest(temp) # k = z-score returned by a combination of a skew and kurtosis test; p = p-value\n",
    "\n",
    "# we use p value to test if the variable is normal using an alpha of 0.05\n",
    "# if p is less than alpha then we can reject the null hypothesis that the sample has a normal distribution\n",
    "if p<0.05:\n",
    "  print('The sample does not come from a normal distribution.')\n",
    "else:\n",
    "  print ('The sample comes from a normal distribution.')"
   ]
  },
  {
   "cell_type": "markdown",
   "metadata": {},
   "source": [
    "### 2. Is the sample size large? Are the observations independent?"
   ]
  },
  {
   "cell_type": "code",
   "execution_count": 5,
   "metadata": {},
   "outputs": [
    {
     "name": "stdout",
     "output_type": "stream",
     "text": [
      "130\n"
     ]
    }
   ],
   "source": [
    "n = len(df)\n",
    "print(n)"
   ]
  },
  {
   "cell_type": "markdown",
   "metadata": {},
   "source": [
    "A sample is considered 'large' enough if it has 30 or greater observations. Here we have a sample size of 130, so we can denote that our sample is large enough for CLT. \n",
    "\n",
    "We can also conclude that the observations are independent."
   ]
  },
  {
   "cell_type": "markdown",
   "metadata": {},
   "source": [
    "### 3. Is the true population mean really 98.6 degrees F?\n",
    "- First, try a bootstrap hypothesis test.\n",
    "- Now, let's try frequentist statistical testing. Would you use a one-sample or two-sample test? Why?\n",
    "- In this situation, is it appropriate to use the  𝑡  or  𝑧  statistic?\n",
    "- Now try using the other test. How is the result be different? Why?"
   ]
  },
  {
   "cell_type": "markdown",
   "metadata": {},
   "source": [
    "We will now perform a bootstrap hypothesis test with the following:\n",
    "\n",
    "$H_0$: The population mean is 98.6. $\\mu=98.6$\n",
    "\n",
    "$H_A$: The population mean is not 98.6. $\\mu\\neq98.6$"
   ]
  },
  {
   "cell_type": "code",
   "execution_count": 10,
   "metadata": {},
   "outputs": [
    {
     "name": "stdout",
     "output_type": "stream",
     "text": [
      "p = 0.0\n"
     ]
    }
   ],
   "source": [
    "import numpy as np\n",
    "\n",
    "def draw_bs_reps(data, func, size=1):\n",
    "    \"\"\"Draw bootstrap replicates.\"\"\"\n",
    "\n",
    "    # Initialize array of replicates: bs_replicates\n",
    "    bs_replicates = np.empty(size)\n",
    "\n",
    "    # Generate replicates\n",
    "    for i in range(size):\n",
    "        bs_replicates[i] = func(np.random.choice(data, size=len(data)))\n",
    "                                \n",
    "    return bs_replicates\n",
    "\n",
    "# translate data so that the mean is 98.6\n",
    "translated_t = temp - np.mean(temp) + 98.6\n",
    "\n",
    "bs_replicates = draw_bs_reps(translated_t, np.mean, 10000)\n",
    "\n",
    "# find probability that the observed mean is greater than the replicates\n",
    "p = np.sum(bs_replicates <= np.mean(temp)) / 10000\n",
    "\n",
    "print(\"p =\",p)"
   ]
  },
  {
   "cell_type": "markdown",
   "metadata": {},
   "source": [
    "The value of p is very small, therefore we can reject the null hypothesis and conclude that the true population mean is not 98.6.\n",
    "\n",
    "\n",
    "Now, we will try frequentist statistical testing. I am going to use a one-sample test since we only have one set of data to test. We will use a t statistic because we do not know the population standard deviation.\n"
   ]
  },
  {
   "cell_type": "code",
   "execution_count": 11,
   "metadata": {},
   "outputs": [
    {
     "name": "stdout",
     "output_type": "stream",
     "text": [
      "The t-statistic is -5.476 and the p-value is 0.0000002.\n"
     ]
    }
   ],
   "source": [
    "temp_mean = np.mean(temp)\n",
    "temp_std = np.std(temp)\n",
    "\n",
    "se = temp_std / np.sqrt(n)\n",
    "\n",
    "t = (temp_mean - 98.6) / se\n",
    "\n",
    "p_val = stats.t.sf(np.abs(t), n-1)*2\n",
    "\n",
    "print(\"The t-statistic is {:1.3f} and the p-value is {:1.7f}.\".format(t, p_val))"
   ]
  },
  {
   "cell_type": "markdown",
   "metadata": {},
   "source": [
    "Again, the value of p is very small so we can conclude that the true mean is most likely not 98.6.\n",
    "\n",
    "Lets try the same test using a z-statistic. I predict that the result will be similar because the sample size is large. We know that as sample size increases, t distribution approaches the normal z distribution."
   ]
  },
  {
   "cell_type": "code",
   "execution_count": 12,
   "metadata": {},
   "outputs": [
    {
     "name": "stdout",
     "output_type": "stream",
     "text": [
      "The z-statistic is -5.476 and the p-value is 0.00000004\n"
     ]
    }
   ],
   "source": [
    "z = (temp_mean - 98.6)/se  \n",
    "\n",
    "p_val_z = stats.norm.sf(np.abs(z))*2\n",
    "\n",
    "print(\"The z-statistic is {:1.3f} and the p-value is {:1.8f}\".format(z, p_val_z))"
   ]
  },
  {
   "cell_type": "markdown",
   "metadata": {},
   "source": [
    "Both tests have the same results. We can use either test when the sample size is large."
   ]
  },
  {
   "cell_type": "markdown",
   "metadata": {},
   "source": [
    "### 4. Draw a small sample of size 10 from the data and repeat both frequentist tests."
   ]
  },
  {
   "cell_type": "code",
   "execution_count": 13,
   "metadata": {},
   "outputs": [],
   "source": [
    "# generate a random sample of 10 observations\n",
    "sample = np.random.choice(temp, size=10)"
   ]
  },
  {
   "cell_type": "markdown",
   "metadata": {},
   "source": [
    "I will now perform both frequentist tests."
   ]
  },
  {
   "cell_type": "code",
   "execution_count": 14,
   "metadata": {},
   "outputs": [
    {
     "name": "stdout",
     "output_type": "stream",
     "text": [
      "The t-statistic is -4.181 and the p-value is 0.0023721.\n"
     ]
    }
   ],
   "source": [
    "# t-test\n",
    "\n",
    "samp_mean = np.mean(sample)\n",
    "samp_std = np.std(sample)\n",
    "\n",
    "se_samp = samp_std / np.sqrt(len(sample))\n",
    "\n",
    "t_samp = (samp_mean - 98.6) / se_samp\n",
    "\n",
    "p_samp_t = stats.t.sf(np.abs(t_samp), len(sample)-1)*2\n",
    "\n",
    "print(\"The t-statistic is {:1.3f} and the p-value is {:1.7f}.\".format(t_samp, p_samp_t))\n"
   ]
  },
  {
   "cell_type": "code",
   "execution_count": 15,
   "metadata": {},
   "outputs": [
    {
     "name": "stdout",
     "output_type": "stream",
     "text": [
      "The z-statistic is -4.181 and the p-value is 0.00002901\n"
     ]
    }
   ],
   "source": [
    "# z-test\n",
    "\n",
    "z_samp = (samp_mean - 98.6) / se_samp\n",
    "\n",
    "p_samp_z = stats.norm.sf(np.abs(z_samp))*2\n",
    "\n",
    "print(\"The z-statistic is {:1.3f} and the p-value is {:1.8f}\".format(z_samp, p_samp_z))"
   ]
  },
  {
   "cell_type": "markdown",
   "metadata": {},
   "source": [
    "The t-test is the correct method in this case since sample size is less than 30. As you can see, the difference between p-values in both tests are significantly different. This tells us that it is important to choose the correct test statistic when dealing with small sample sizes. "
   ]
  },
  {
   "cell_type": "markdown",
   "metadata": {},
   "source": [
    "### 5. At what temperature should we consider someone's temperature to be \"abnormal\"?\n",
    "As in the previous example, try calculating everything using the boostrap approach, as well as the frequentist approach.\n",
    "Start by computing the margin of error and confidence interval. When calculating the confidence interval, keep in mind that you should use the appropriate formula for one draw, and not N draws."
   ]
  },
  {
   "cell_type": "code",
   "execution_count": null,
   "metadata": {},
   "outputs": [],
   "source": [
    "# bootstrap approach\n",
    "\n",
    "bs_temp = draw_bs_reps(temp, np.mean, 10000)\n",
    "\n",
    "ci_bs = np.percentile(bs_temp, [2.5,97.5])\n",
    "\n",
    "ci_bs"
   ]
  },
  {
   "cell_type": "code",
   "execution_count": null,
   "metadata": {},
   "outputs": [],
   "source": [
    "# z-test\n",
    "z_val = 1.96\n",
    "\n",
    "mean = np.mean(temp)\n",
    "std = np.std(temp)\n",
    "std_err = std / np.sqrt(len(temp))\n",
    "margin_of_err = z_val * std_err\n",
    "\n",
    "conf_int = (mean - margin_of_err, mean + margin_of_err)\n",
    "conf_int"
   ]
  },
  {
   "cell_type": "markdown",
   "metadata": {},
   "source": [
    "The 95 percent confidence interval of both tests tells us that any temperature not between 98.12 and 98.37 would be considered \"abnormal\"."
   ]
  },
  {
   "cell_type": "markdown",
   "metadata": {},
   "source": [
    "### 6. Is there a significant difference between males and females in normal temperature?\n",
    "What testing approach did you use and why?\n",
    "Write a story with your conclusion in the context of the original problem.\n",
    "\n",
    "We will test the null hypothesis that the body temperature distributions of males and females are the same. We will use a two-sample t-test since it is the appropiate method for testing the difference of means. "
   ]
  },
  {
   "cell_type": "code",
   "execution_count": 16,
   "metadata": {},
   "outputs": [
    {
     "data": {
      "text/plain": [
       "Ttest_indResult(statistic=2.2854345381656103, pvalue=0.02393188312239561)"
      ]
     },
     "execution_count": 16,
     "metadata": {},
     "output_type": "execute_result"
    }
   ],
   "source": [
    "# i will use a two-sample t-test\n",
    "\n",
    "m_temp = df[df.gender == 'M']['temperature']\n",
    "f_temp = df[df.gender == 'F']['temperature']\n",
    "\n",
    "stats.ttest_ind(f_temp, m_temp)"
   ]
  },
  {
   "cell_type": "markdown",
   "metadata": {},
   "source": [
    "The p-value is very small, so we can reject the null hypothesis that the temperature distributions of males and females are identical. "
   ]
  },
  {
   "cell_type": "markdown",
   "metadata": {},
   "source": [
    "## Conclusion\n",
    "- Human body temperatures follow a normal distribution.\n",
    "- The distribution of the data follows the conditions for the CLT and therefore also follows the conditions of the statistical tests we use in this project. \n",
    "- The accepted mean normal body temperature of 98.6 degrees F that was held for more than 120 years turns out to be statiscally incorrect. In fact, the 95% confidence interval tells us that we can expect the mean normal temperature to be between 98.12 and 98.37 degrees. \n",
    "- There is a statistically significant difference between the body temperatures of men and women. \n"
   ]
  }
 ],
 "metadata": {
  "kernelspec": {
   "display_name": "Python 3",
   "language": "python",
   "name": "python3"
  },
  "language_info": {
   "codemirror_mode": {
    "name": "ipython",
    "version": 3
   },
   "file_extension": ".py",
   "mimetype": "text/x-python",
   "name": "python",
   "nbconvert_exporter": "python",
   "pygments_lexer": "ipython3",
   "version": "3.7.1"
  }
 },
 "nbformat": 4,
 "nbformat_minor": 1
}
